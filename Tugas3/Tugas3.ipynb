{
  "nbformat": 4,
  "nbformat_minor": 0,
  "metadata": {
    "colab": {
      "name": "Tugas3.ipynb",
      "provenance": [],
      "collapsed_sections": []
    },
    "kernelspec": {
      "name": "python3",
      "display_name": "Python 3"
    },
    "language_info": {
      "name": "python"
    },
    "accelerator": "GPU"
  },
  "cells": [
    {
      "cell_type": "markdown",
      "source": [
        "Nama: Irene Maritsa\n",
        "\n",
        "NIM: H071191026\n",
        "\n",
        "Pelajari Chapter 5 dari d2l.ai : Deep Learning Computation"
      ],
      "metadata": {
        "id": "q8olGtRRfK_w"
      }
    },
    {
      "cell_type": "code",
      "execution_count": 1,
      "metadata": {
        "id": "1yqSlQc2ZMiy"
      },
      "outputs": [],
      "source": [
        "import tensorflow as tf\n",
        "from tensorflow import keras"
      ]
    },
    {
      "cell_type": "markdown",
      "source": [
        "# 1. Layer dan Blocks\n",
        "\n",
        "Layer merupakan arsitektur atau struktur yang berisi kumpulan node yang beroperasi secara dan di waktu yang bersamaan, yang mengambil informasi dari layer sebelumnya dan kemudian meneruskan informasi ke layer berikutnya.\n",
        "\n",
        "Block atau neural network blocks merupakan konsep di mana satu atau lebih layer digambarkan / diabstraksi menjadi satu komponen (block). Salah satu manfaat utama dari abstraksi blocks adalah blocks ini bisa lagi dikombinasikan menjadi struktur yang lebih besar (biasanya secara rekursif).\n",
        "\n",
        "Dengan menggunakan konsep blocks ini, kita tetap dapat menulis kode yang ringkas dan masih mengimplementasikan neural net yang kompleks. Untuk mengimplementasikan blocks, kita membuat fungsi atau jika ingin fleksibel, kelas turunan dari tensorflow.keras.Model yang memiliki fungsi forward propagation (fungsi call()) . \n",
        "\n",
        "Contoh implementasi kode\n"
      ],
      "metadata": {
        "id": "ukFbKIlzfZVN"
      }
    },
    {
      "cell_type": "code",
      "source": [
        "# Data: digenerate secara random\n",
        "X = tf.random.uniform((2, 20))\n",
        "\n",
        "X"
      ],
      "metadata": {
        "colab": {
          "base_uri": "https://localhost:8080/"
        },
        "id": "a6E-MTlsaD0A",
        "outputId": "49b366ba-8c8a-4c98-cb4a-8fcc8f6885eb"
      },
      "execution_count": 2,
      "outputs": [
        {
          "output_type": "execute_result",
          "data": {
            "text/plain": [
              "<tf.Tensor: shape=(2, 20), dtype=float32, numpy=\n",
              "array([[0.02576447, 0.20197976, 0.70219517, 0.01233876, 0.59934187,\n",
              "        0.77002716, 0.38943923, 0.47400331, 0.27422714, 0.2088083 ,\n",
              "        0.02645361, 0.4790585 , 0.5381237 , 0.4185362 , 0.78749764,\n",
              "        0.8413707 , 0.80760527, 0.16672003, 0.49980927, 0.7184535 ],\n",
              "       [0.12169123, 0.19905615, 0.9611039 , 0.5702108 , 0.31353152,\n",
              "        0.5062885 , 0.9863285 , 0.9086404 , 0.69162047, 0.07209623,\n",
              "        0.5726782 , 0.7550218 , 0.08292532, 0.9966459 , 0.9974885 ,\n",
              "        0.82730675, 0.24289107, 0.7210177 , 0.67363083, 0.4886924 ]],\n",
              "      dtype=float32)>"
            ]
          },
          "metadata": {},
          "execution_count": 2
        }
      ]
    },
    {
      "cell_type": "markdown",
      "source": [
        "Misalnya model yang akan dijadikan blok merupakan model seperti ini"
      ],
      "metadata": {
        "id": "jElUHKuGgA23"
      }
    },
    {
      "cell_type": "code",
      "source": [
        "block1 = keras.models.Sequential([\n",
        "    keras.layers.Dense(256, activation=tf.nn.relu),\n",
        "    keras.layers.Dense(10),\n",
        "])"
      ],
      "metadata": {
        "id": "-4y-vFF_aHn9"
      },
      "execution_count": 3,
      "outputs": []
    },
    {
      "cell_type": "markdown",
      "source": [
        "Bentuk bloknya"
      ],
      "metadata": {
        "id": "pKeB4MwTgCLE"
      }
    },
    {
      "cell_type": "code",
      "source": [
        "class Block1(keras.Model):\n",
        "    def __init__(self):\n",
        "        super().__init__()\n",
        "        self.layer_list= []\n",
        "        self.layer_list.append(keras.layers.Dense(256, activation=tf.nn.relu))\n",
        "        self.layer_list.append(keras.layers.Dense(10))\n",
        "        self.layer_list.reverse()\n",
        "    \n",
        "    def call(self, X):\n",
        "        result_temp= X\n",
        "\n",
        "        # Melakukan forward propagation sampai layer terakhir dalam list \n",
        "        while bool(self.layer_list):\n",
        "            result_temp= self.layer_list.pop()(result_temp)\n",
        "\n",
        "        return result_temp\n",
        "        # return 1"
      ],
      "metadata": {
        "id": "TlyPLqfAaLuu"
      },
      "execution_count": 4,
      "outputs": []
    },
    {
      "cell_type": "code",
      "source": [
        "net= Block1()\n",
        "net(X) # Sama saja dengan net.call(X)"
      ],
      "metadata": {
        "colab": {
          "base_uri": "https://localhost:8080/"
        },
        "id": "tsIOXwWlaO83",
        "outputId": "a90bf489-6499-4b0b-d0e0-70d3e99c7521"
      },
      "execution_count": 5,
      "outputs": [
        {
          "output_type": "execute_result",
          "data": {
            "text/plain": [
              "<tf.Tensor: shape=(2, 10), dtype=float32, numpy=\n",
              "array([[ 0.19286352, -0.18749547,  0.03211523,  0.07317674,  0.17570707,\n",
              "        -0.26441398, -0.06995555,  0.10220586, -0.01584365,  0.10774392],\n",
              "       [ 0.2363228 , -0.04864379,  0.10196164,  0.01020926,  0.20883676,\n",
              "        -0.1298388 , -0.14530724,  0.24394602, -0.09210241, -0.05063185]],\n",
              "      dtype=float32)>"
            ]
          },
          "metadata": {},
          "execution_count": 5
        }
      ]
    },
    {
      "cell_type": "markdown",
      "source": [
        "Selanjutnya kita akan membuat block ke dua yang tidak mengandung layer satu per satu tapi mengandung model"
      ],
      "metadata": {
        "id": "AegS-zeIgHWQ"
      }
    },
    {
      "cell_type": "code",
      "source": [
        "class Block2(keras.Model):\n",
        "    def __init__(self):\n",
        "        super().__init__()\n",
        "        self.net= keras.Sequential()\n",
        "        self.net.add(keras.layers.Dense(256, activation=tf.nn.relu))\n",
        "        self.net.add(keras.layers.Dense(10))\n",
        "    \n",
        "    def call(self, X):\n",
        "        return self.net(X)"
      ],
      "metadata": {
        "id": "FDPqXyRKdbnj"
      },
      "execution_count": 6,
      "outputs": []
    },
    {
      "cell_type": "markdown",
      "source": [
        "Kemudian satukan"
      ],
      "metadata": {
        "id": "2Y2gX6DrgJgZ"
      }
    },
    {
      "cell_type": "code",
      "source": [
        "net= keras.Sequential()\n",
        "\n",
        "# Menambahkan layer pertama yang mana merupakan block 2\n",
        "net.add(Block2())\n",
        "\n",
        "# Menambahkan block 1\n",
        "net.add(Block1())\n",
        "\n",
        "# # Menambahkan satu lagi layer dense biasa\n",
        "net.add(keras.layers.Dense(10, activation= 'sigmoid'))\n",
        "\n",
        "# Melakukan forward propagation\n",
        "net(X)"
      ],
      "metadata": {
        "colab": {
          "base_uri": "https://localhost:8080/"
        },
        "id": "MKygBKVvdsCW",
        "outputId": "d5fdd270-69a6-4e80-d4c1-a6393ed15053"
      },
      "execution_count": 7,
      "outputs": [
        {
          "output_type": "execute_result",
          "data": {
            "text/plain": [
              "<tf.Tensor: shape=(2, 10), dtype=float32, numpy=\n",
              "array([[0.50911033, 0.5716525 , 0.51420814, 0.5687796 , 0.56056327,\n",
              "        0.4985788 , 0.46110842, 0.4469462 , 0.5803917 , 0.50603056],\n",
              "       [0.49454978, 0.51718116, 0.45687127, 0.50363666, 0.49906126,\n",
              "        0.48918095, 0.42328098, 0.49218008, 0.59554696, 0.5301467 ]],\n",
              "      dtype=float32)>"
            ]
          },
          "metadata": {},
          "execution_count": 7
        }
      ]
    },
    {
      "cell_type": "markdown",
      "source": [
        "# 2. Parameter Management\n",
        "\n",
        "Parameter management atau manajemen parameter termasuk (Parameter dalam kasus neural network contohnya weight dan bias, fungsi loss atau learning rate merupakan hyperparameter):\n",
        "\n",
        "Mengakses parameter untuk debugging, diagnostik, dan visualisasi.\n",
        "Inisialisasi parameter.\n",
        "Berbagi parameter dengan komponen model lain.\n",
        "\n"
      ],
      "metadata": {
        "id": "BS5obHIDgNHE"
      }
    },
    {
      "cell_type": "markdown",
      "source": [
        "## Mengakses Parameter\n",
        "\n",
        "Model:"
      ],
      "metadata": {
        "id": "uMxTOx0Zga5J"
      }
    },
    {
      "cell_type": "code",
      "source": [
        "net = keras.models.Sequential([\n",
        "    keras.layers.Flatten(),\n",
        "    keras.layers.Dense(4, activation=tf.nn.relu),\n",
        "    keras.layers.Dense(1),\n",
        "])\n",
        "\n",
        "X = tf.random.uniform((2, 4))\n",
        "net(X)"
      ],
      "metadata": {
        "colab": {
          "base_uri": "https://localhost:8080/"
        },
        "id": "L6s19NbodvZU",
        "outputId": "c36e0a72-7b30-4813-c697-ef4100199a67"
      },
      "execution_count": 8,
      "outputs": [
        {
          "output_type": "execute_result",
          "data": {
            "text/plain": [
              "<tf.Tensor: shape=(2, 1), dtype=float32, numpy=\n",
              "array([[0.24649215],\n",
              "       [0.25672632]], dtype=float32)>"
            ]
          },
          "metadata": {},
          "execution_count": 8
        }
      ]
    },
    {
      "cell_type": "markdown",
      "source": [
        "Mengambil weight dan bias dari setiap layer net"
      ],
      "metadata": {
        "id": "eC_mZ2gNggKs"
      }
    },
    {
      "cell_type": "code",
      "source": [
        "net.weights\n",
        "# Atau net.get_weights()"
      ],
      "metadata": {
        "colab": {
          "base_uri": "https://localhost:8080/"
        },
        "id": "F6XZCxNKdyUj",
        "outputId": "4e6597d6-3205-4abf-aec7-ca2d432a424a"
      },
      "execution_count": 9,
      "outputs": [
        {
          "output_type": "execute_result",
          "data": {
            "text/plain": [
              "[<tf.Variable 'dense_9/kernel:0' shape=(4, 4) dtype=float32, numpy=\n",
              " array([[ 0.25658697,  0.665904  , -0.43578154,  0.709652  ],\n",
              "        [ 0.13771528,  0.41275877, -0.78659695, -0.4558903 ],\n",
              "        [ 0.25031918,  0.08139366,  0.7626386 ,  0.17768484],\n",
              "        [-0.198075  ,  0.42781276,  0.6238579 , -0.4812101 ]],\n",
              "       dtype=float32)>,\n",
              " <tf.Variable 'dense_9/bias:0' shape=(4,) dtype=float32, numpy=array([0., 0., 0., 0.], dtype=float32)>,\n",
              " <tf.Variable 'dense_10/kernel:0' shape=(4, 1) dtype=float32, numpy=\n",
              " array([[-0.7786403 ],\n",
              "        [ 0.46571636],\n",
              "        [ 0.39268887],\n",
              "        [-0.5590628 ]], dtype=float32)>,\n",
              " <tf.Variable 'dense_10/bias:0' shape=(1,) dtype=float32, numpy=array([0.], dtype=float32)>]"
            ]
          },
          "metadata": {},
          "execution_count": 9
        }
      ]
    },
    {
      "cell_type": "markdown",
      "source": [
        "Untuk mendapatkan parameter pada layer yang ingin diakses, dilakukan dengan memanggil atribut .layers[index dari layer] dari model sequential. Misal layer yang ingin diakses parameternya yaitu layer indeks ke-1"
      ],
      "metadata": {
        "id": "GdwGyb3PgkmJ"
      }
    },
    {
      "cell_type": "markdown",
      "source": [
        "net.layers[1]"
      ],
      "metadata": {
        "id": "eCPiqT6Vd0F4"
      }
    },
    {
      "cell_type": "markdown",
      "source": [
        "Selanjutnya untuk mengakses parameter weight dan bias"
      ],
      "metadata": {
        "id": "gIAL7XW6giwS"
      }
    },
    {
      "cell_type": "code",
      "source": [
        "net.layers[1].weights"
      ],
      "metadata": {
        "colab": {
          "base_uri": "https://localhost:8080/"
        },
        "id": "mRvH1HHqd4PT",
        "outputId": "dd2f929b-3e54-4238-be9b-75b6adc4a0e7"
      },
      "execution_count": 10,
      "outputs": [
        {
          "output_type": "execute_result",
          "data": {
            "text/plain": [
              "[<tf.Variable 'dense_9/kernel:0' shape=(4, 4) dtype=float32, numpy=\n",
              " array([[ 0.25658697,  0.665904  , -0.43578154,  0.709652  ],\n",
              "        [ 0.13771528,  0.41275877, -0.78659695, -0.4558903 ],\n",
              "        [ 0.25031918,  0.08139366,  0.7626386 ,  0.17768484],\n",
              "        [-0.198075  ,  0.42781276,  0.6238579 , -0.4812101 ]],\n",
              "       dtype=float32)>,\n",
              " <tf.Variable 'dense_9/bias:0' shape=(4,) dtype=float32, numpy=array([0., 0., 0., 0.], dtype=float32)>]"
            ]
          },
          "metadata": {},
          "execution_count": 10
        }
      ]
    },
    {
      "cell_type": "markdown",
      "source": [
        "Outputnya berupa array, indeks ke-0 merupakan weights, indeks ke-1 merupakan bias\n",
        "\n",
        "Untuk layer yang berupa block (memiliki layer lagi di dalamnya), kita tetap bisa mengakses nya seperti ini:\n",
        "\n",
        "net.layers[0].layers[1].layers[1].weights[1]"
      ],
      "metadata": {
        "id": "zBLcRKWCgr_v"
      }
    },
    {
      "cell_type": "markdown",
      "source": [
        "### Inisialisasi Parameter\n",
        "\n",
        "Secara default (untuk tensorflow), matriks weight diinisialisasikan berdasarkan range yang dikomputasi dari dimensi input dan output, sementara parameter bias mempunyai nilai default 0.\n",
        "\n",
        "Misal menginisialisasi weight sebagai variabel random Gaussian dengan standar deviasi 0.01, dan menginisialisasi parameter bias dengan nilai 0."
      ],
      "metadata": {
        "id": "zmAZRa5Ggs9t"
      }
    },
    {
      "cell_type": "code",
      "source": [
        "net = keras.models.Sequential([\n",
        "    keras.layers.Flatten(),\n",
        "    keras.layers.Dense(4, activation=tf.nn.relu, \n",
        "                       kernel_initializer=tf.random_normal_initializer(mean=0, stddev=0.01), \n",
        "                       bias_initializer=tf.zeros_initializer()),\n",
        "    keras.layers.Dense(1)\n",
        "])\n",
        "\n",
        "net(X)\n",
        "net.layers[1].weights[0], net.layers[1].weights[1]"
      ],
      "metadata": {
        "colab": {
          "base_uri": "https://localhost:8080/"
        },
        "id": "zdE8wRcWd76H",
        "outputId": "7124ae3e-3c38-4c30-f283-0c0aae20efbb"
      },
      "execution_count": 18,
      "outputs": [
        {
          "output_type": "execute_result",
          "data": {
            "text/plain": [
              "(<tf.Variable 'dense_20/kernel:0' shape=(4, 4) dtype=float32, numpy=\n",
              " array([[-0.00250478, -0.00729429,  0.01993616,  0.01713971],\n",
              "        [ 0.00932723,  0.00861306,  0.00037473,  0.01281009],\n",
              "        [ 0.00137298, -0.01202288,  0.01145193, -0.02086713],\n",
              "        [-0.00207057, -0.00026267,  0.00353656,  0.00783457]],\n",
              "       dtype=float32)>,\n",
              " <tf.Variable 'dense_20/bias:0' shape=(4,) dtype=float32, numpy=array([0., 0., 0., 0.], dtype=float32)>)"
            ]
          },
          "metadata": {},
          "execution_count": 18
        }
      ]
    },
    {
      "cell_type": "markdown",
      "source": [
        "Kita juga bisa menginisialisasikan weight yang berbeda pada setiap layer, misal weight layer dense kedua diisi dengan angka konstan 0.5."
      ],
      "metadata": {
        "id": "W29V8_MUgzLD"
      }
    },
    {
      "cell_type": "code",
      "source": [
        "net = keras.models.Sequential([\n",
        "    keras.layers.Flatten(),\n",
        "    keras.layers.Dense(4, activation=tf.nn.relu, \n",
        "                       kernel_initializer=tf.random_normal_initializer(mean=0, stddev=0.01), \n",
        "                       bias_initializer=tf.zeros_initializer()),\n",
        "    keras.layers.Dense(4, activation=tf.nn.relu, \n",
        "                       kernel_initializer=keras.initializers.Constant(0.5), \n",
        "                       bias_initializer=tf.zeros_initializer()),\n",
        "    keras.layers.Dense(1)\n",
        "])\n",
        "\n",
        "net(X)\n",
        "net.layers[1].weights[0], net.layers[2].weights[0]"
      ],
      "metadata": {
        "colab": {
          "base_uri": "https://localhost:8080/"
        },
        "id": "DKBPkylId-aD",
        "outputId": "47fdc3be-90eb-4994-c8dd-54c14a54d0ac"
      },
      "execution_count": 12,
      "outputs": [
        {
          "output_type": "execute_result",
          "data": {
            "text/plain": [
              "(<tf.Variable 'dense_13/kernel:0' shape=(4, 4) dtype=float32, numpy=\n",
              " array([[ 0.00662467,  0.01239068,  0.01816804,  0.00183871],\n",
              "        [ 0.00718059,  0.00218495,  0.01927559, -0.0112583 ],\n",
              "        [ 0.00452408,  0.01702096, -0.01680993, -0.00029011],\n",
              "        [-0.00881657, -0.00371246, -0.00372501,  0.01336032]],\n",
              "       dtype=float32)>,\n",
              " <tf.Variable 'dense_14/kernel:0' shape=(4, 4) dtype=float32, numpy=\n",
              " array([[0.5, 0.5, 0.5, 0.5],\n",
              "        [0.5, 0.5, 0.5, 0.5],\n",
              "        [0.5, 0.5, 0.5, 0.5],\n",
              "        [0.5, 0.5, 0.5, 0.5]], dtype=float32)>)"
            ]
          },
          "metadata": {},
          "execution_count": 12
        }
      ]
    },
    {
      "cell_type": "markdown",
      "source": [
        "Kita juga bisa membuat subclass kita sendiri untuk inisialisasi weight jika cara di atas kurang flexibel, caranya yaitu kita membuat class subclass dari keras.initializers.Initializer , lalu mengimplementasikan method call(shape, dtype) yang me-return tensor (berisi weight inisial) yang isinya sesuai kemauan kita"
      ],
      "metadata": {
        "id": "ql4RyBzXg4NK"
      }
    },
    {
      "cell_type": "code",
      "source": [
        "# Di sini kita membuat class untuk inisialisasi weight\n",
        "class MyInit(tf.keras.initializers.Initializer):\n",
        "    def __call__(self, shape, dtype=None):\n",
        "        data=tf.random.uniform(shape, -10, 10, dtype=dtype)\n",
        "        factor=(tf.abs(data) >= 5)\n",
        "        factor=tf.cast(factor, tf.float32)\n",
        "        return data * factor"
      ],
      "metadata": {
        "id": "-10Nv3XyeCLd"
      },
      "execution_count": 13,
      "outputs": []
    },
    {
      "cell_type": "code",
      "source": [
        "MyInit().__call__(shape=(3, 3), dtype=tf.float32)"
      ],
      "metadata": {
        "colab": {
          "base_uri": "https://localhost:8080/"
        },
        "id": "_yEyq_oceDXN",
        "outputId": "ea6efe78-e09c-4fda-e1d7-dae4bfc51a5a"
      },
      "execution_count": 14,
      "outputs": [
        {
          "output_type": "execute_result",
          "data": {
            "text/plain": [
              "<tf.Tensor: shape=(3, 3), dtype=float32, numpy=\n",
              "array([[ 8.941259 ,  0.       ,  0.       ],\n",
              "       [-0.       , -5.9314084, -7.18122  ],\n",
              "       [-0.       ,  7.7063065,  0.       ]], dtype=float32)>"
            ]
          },
          "metadata": {},
          "execution_count": 14
        }
      ]
    },
    {
      "cell_type": "code",
      "source": [
        "net = keras.models.Sequential([\n",
        "    keras.layers.Flatten(),\n",
        "    # Memasukkan kelas initializer pada parameter kernel_initializer\n",
        "    keras.layers.Dense(4, activation=tf.nn.relu, kernel_initializer=MyInit()),\n",
        "    keras.layers.Dense(1),\n",
        "])\n",
        "\n",
        "net(X)\n",
        "print(net.layers[1].weights[0])"
      ],
      "metadata": {
        "colab": {
          "base_uri": "https://localhost:8080/"
        },
        "id": "WwTeJYSdeFVD",
        "outputId": "9090477e-b4d6-4ff1-98c7-266b20696c3a"
      },
      "execution_count": 15,
      "outputs": [
        {
          "output_type": "stream",
          "name": "stdout",
          "text": [
            "<tf.Variable 'dense_16/kernel:0' shape=(4, 4) dtype=float32, numpy=\n",
            "array([[-7.334926 , -0.       ,  5.315795 ,  5.652321 ],\n",
            "       [ 7.428871 , -5.103283 , -0.       ,  0.       ],\n",
            "       [ 6.934576 , -7.4474382,  5.0421476, -0.       ],\n",
            "       [ 0.       , -0.       ,  0.       , -0.       ]], dtype=float32)>\n"
          ]
        }
      ]
    },
    {
      "cell_type": "markdown",
      "source": [
        "# 3. Deferred Initialization\n",
        "Inisialisasi weight pada model ditangguhkan sebelum data di-pass ke model. Ini dikarenakan model masih belum mengetahui input shape dari data, maka dari itu model menangguhkan inisialisasi parameter, konsep ini juga membuat kita tidak perlu mendefinisikan input shape dari setiap layer, yang mana pastinya sangat membantu terutama jika dataset berupa gambar (yang mana mempunyai shape yang dinamis)\n",
        "\n",
        "Contohnya seperti kasus berikut, pertama-tama kita membuat model lalu memanggil weight nya"
      ],
      "metadata": {
        "id": "fEO1xkzpg7Wq"
      }
    },
    {
      "cell_type": "code",
      "source": [
        "net = keras.models.Sequential([\n",
        "    keras.layers.Dense(256, activation=tf.nn.relu),\n",
        "    keras.layers.Dense(10),\n",
        "])\n",
        "[net.layers[i].get_weights() for i in range(len(net.layers))]"
      ],
      "metadata": {
        "colab": {
          "base_uri": "https://localhost:8080/"
        },
        "id": "otb4A2PneJJs",
        "outputId": "4bbe4407-fd59-4ef7-8aa2-996db5de6d31"
      },
      "execution_count": 16,
      "outputs": [
        {
          "output_type": "execute_result",
          "data": {
            "text/plain": [
              "[[], []]"
            ]
          },
          "metadata": {},
          "execution_count": 16
        }
      ]
    },
    {
      "cell_type": "markdown",
      "source": [
        "Kita bisa melihat weightnya masih kosong karena belum diinisialisasikan sama sekali"
      ],
      "metadata": {
        "id": "3tBxfxP4hCaJ"
      }
    },
    {
      "cell_type": "code",
      "source": [
        "# Feed model dengan X\n",
        "net(X)\n",
        "\n",
        "[w.shape for w in net.get_weights()], net.layers[0].get_weights()[0]"
      ],
      "metadata": {
        "colab": {
          "base_uri": "https://localhost:8080/"
        },
        "id": "-jKB2vrWeOBN",
        "outputId": "8b8af7f4-87dc-4775-a735-348b7e9ea117"
      },
      "execution_count": 17,
      "outputs": [
        {
          "output_type": "execute_result",
          "data": {
            "text/plain": [
              "([(4, 256), (256,), (256, 10), (10,)],\n",
              " array([[-1.43906385e-01, -1.75253153e-02,  1.23785675e-01, ...,\n",
              "         -1.39409989e-01, -1.11811608e-01,  6.18231148e-02],\n",
              "        [ 1.08350545e-01,  1.20449543e-01,  2.19423920e-02, ...,\n",
              "         -3.19613814e-02,  8.46543759e-02,  4.96828109e-02],\n",
              "        [ 9.15868580e-03,  1.24413133e-01,  3.32612544e-02, ...,\n",
              "          1.23169452e-01,  1.28818035e-01,  7.52954483e-02],\n",
              "        [-1.19774491e-02, -2.49719173e-02,  1.17807865e-01, ...,\n",
              "         -6.49316981e-02,  1.25780702e-04,  1.46672279e-01]], dtype=float32))"
            ]
          },
          "metadata": {},
          "execution_count": 17
        }
      ]
    },
    {
      "cell_type": "markdown",
      "source": [
        "Barulah setelah data di-pass weightnya terinisialisasi. Ini dinamakan Deferred Initialization (penangguhan inisialisasi)."
      ],
      "metadata": {
        "id": "1grKV7yOhFLB"
      }
    },
    {
      "cell_type": "markdown",
      "source": [
        "# 4. Custom Layers\n",
        "Pada kasus-kasus tertentu, kita berhadapan dengan masalah di mana kita membutuhkan layer yang belum pernah dibuat atau belum ada pada library, untuk mengatasi masalah tersebut, kita bisa membuat layer kustom kita sendiri. Membuat layer kustom sama saja seperti membuat blok. Terdapat 2 jenis kustom layer: layer tanpa atau dengan parameter (seperti weight atau bias)"
      ],
      "metadata": {
        "id": "7iMufR-ChGbQ"
      }
    },
    {
      "cell_type": "markdown",
      "source": [
        "### Layer tanpa parameter\n",
        "\n",
        "\n",
        "Layer tanpa parameter merupakan layer yang tidak mempunyai weight dan bias di dalamnya (seperti layer flatten). Misal kita ingin membuat layer yang mengurangi input dengan satu"
      ],
      "metadata": {
        "id": "WAc0-T5vhJco"
      }
    },
    {
      "cell_type": "code",
      "source": [
        "class MinusOneLayer(keras.Model):\n",
        "    def __init__(self):\n",
        "        super().__init__()\n",
        "\n",
        "    def call(self, input):\n",
        "        return input - tf.ones(input.shape)"
      ],
      "metadata": {
        "id": "HBHVIYXPeSqH"
      },
      "execution_count": 19,
      "outputs": []
    },
    {
      "cell_type": "code",
      "source": [
        "layer_wo_params= MinusOneLayer()\n",
        "layer_wo_params(tf.constant([1.,2.,3.]))"
      ],
      "metadata": {
        "colab": {
          "base_uri": "https://localhost:8080/"
        },
        "id": "aBKD07I8eTgb",
        "outputId": "48790153-2d55-48df-d82b-54d137342c25"
      },
      "execution_count": 20,
      "outputs": [
        {
          "output_type": "execute_result",
          "data": {
            "text/plain": [
              "<tf.Tensor: shape=(3,), dtype=float32, numpy=array([0., 1., 2.], dtype=float32)>"
            ]
          },
          "metadata": {},
          "execution_count": 20
        }
      ]
    },
    {
      "cell_type": "markdown",
      "source": [
        "Mengimplementasikannya pada model"
      ],
      "metadata": {
        "id": "2ASaSIXVhSnX"
      }
    },
    {
      "cell_type": "code",
      "source": [
        "net = keras.Sequential([keras.layers.Dense(128), MinusOneLayer()])"
      ],
      "metadata": {
        "id": "YaEjyojfeV3J"
      },
      "execution_count": 21,
      "outputs": []
    },
    {
      "cell_type": "markdown",
      "source": [
        "### Layer dengan parameter\n",
        "Layer dengan parameter mempunyai dan melibatkan weight dan bias pada operasinya. Misal kita ingin membuat layer dense yang berfungsi sama dengan layer dense pada umumnya (input * weight + bias lalu aktivasi). Walaupun kita mengatur/inisialisasi parameter semau kita, parameter juga tetap berubah saat proses back propagation"
      ],
      "metadata": {
        "id": "V8yURDeZhTVY"
      }
    },
    {
      "cell_type": "code",
      "source": [
        "class MyDense(keras.Model):\n",
        "    # Di sini kita berikan dua parameter saja yaitu untuk output dan aktivasi (tentu saja kita bisa menambahkannya sesuai kebutuhan)\n",
        "    def __init__(self, units, activation=None):\n",
        "        super().__init__()\n",
        "        self.units = units\n",
        "        self.activation= activation\n",
        "\n",
        "    # Pada method build kita inisialisasi weight dan bias, fungsi build hanya dijalankan satu kali\n",
        "    # Jadi weight dan bias tetap akan ter-update saat back propagation\n",
        "    def build(self, X_shape):\n",
        "        self.weight = self.add_weight(name='weight',\n",
        "            shape=[X_shape[-1], self.units],\n",
        "            initializer=tf.random_normal_initializer())\n",
        "        self.bias = self.add_weight(\n",
        "            name='bias', shape=[self.units],\n",
        "            initializer=tf.zeros_initializer())\n",
        "\n",
        "    # Pada fungsi call kita melakukan operasi (input * weight + bias lalu aktivasi)\n",
        "    def call(self, X):\n",
        "        linear = tf.matmul(X, self.weight) + self.bias\n",
        "\n",
        "        if self.activation is None:\n",
        "            return linear\n",
        "        \n",
        "        return self.activation(linear)"
      ],
      "metadata": {
        "id": "K6Jr_ySleXzM"
      },
      "execution_count": 22,
      "outputs": []
    },
    {
      "cell_type": "code",
      "source": [
        "temp_dense= MyDense(5)\n",
        "temp_dense(X)\n",
        "\n",
        "temp_dense.get_weights()"
      ],
      "metadata": {
        "colab": {
          "base_uri": "https://localhost:8080/"
        },
        "id": "EUvz41MLeain",
        "outputId": "9b6c5d43-1a9f-4049-c4f7-853d6b64fac5"
      },
      "execution_count": 23,
      "outputs": [
        {
          "output_type": "execute_result",
          "data": {
            "text/plain": [
              "[array([[-0.00590205,  0.08091338,  0.02407169,  0.0842525 , -0.01284575],\n",
              "        [-0.01805593, -0.02711487,  0.03130331, -0.00570907, -0.10003891],\n",
              "        [-0.03238059, -0.00634598,  0.00644104, -0.02775725,  0.01145109],\n",
              "        [ 0.06018232,  0.09229618, -0.12428971,  0.03122694, -0.04565911]],\n",
              "       dtype=float32), array([0., 0., 0., 0., 0.], dtype=float32)]"
            ]
          },
          "metadata": {},
          "execution_count": 23
        }
      ]
    },
    {
      "cell_type": "markdown",
      "source": [
        "Selanjutnya membuat model dengan 2 layer MyDense yang telah dibuat"
      ],
      "metadata": {
        "id": "vO9OUDWMhZly"
      }
    },
    {
      "cell_type": "code",
      "source": [
        "net= keras.Sequential([\n",
        "    keras.layers.Flatten(),\n",
        "    MyDense(128, tf.nn.relu), \n",
        "    MyDense(64, tf.nn.relu), \n",
        "    MyDense(32, tf.nn.relu), \n",
        "    MyDense(10, tf.nn.softmax)\n",
        "])\n",
        "\n",
        "net.compile(optimizer='adam', loss='sparse_categorical_crossentropy', metrics=['accuracy'])"
      ],
      "metadata": {
        "id": "8NY6sMPdecdY"
      },
      "execution_count": 24,
      "outputs": []
    },
    {
      "cell_type": "markdown",
      "source": [
        "Kita akan mengetes model tersebut pada dataset mnist"
      ],
      "metadata": {
        "id": "makzlXCrhdJw"
      }
    },
    {
      "cell_type": "code",
      "source": [
        "(x_train, y_train), (x_test, y_test)= keras.datasets.mnist.load_data()\n",
        "x_train, x_test= x_train/255, x_test/255"
      ],
      "metadata": {
        "colab": {
          "base_uri": "https://localhost:8080/"
        },
        "id": "vRJ3LeVTehd-",
        "outputId": "eb806cc0-be25-4ef0-ff02-956b5c5d9f4b"
      },
      "execution_count": 25,
      "outputs": [
        {
          "output_type": "stream",
          "name": "stdout",
          "text": [
            "Downloading data from https://storage.googleapis.com/tensorflow/tf-keras-datasets/mnist.npz\n",
            "11493376/11490434 [==============================] - 0s 0us/step\n",
            "11501568/11490434 [==============================] - 0s 0us/step\n"
          ]
        }
      ]
    },
    {
      "cell_type": "code",
      "source": [
        "net.fit(x_train, y_train, epochs=3, batch_size= 128)"
      ],
      "metadata": {
        "colab": {
          "base_uri": "https://localhost:8080/"
        },
        "id": "-h0yyMeKekIf",
        "outputId": "5d9afd00-7cbd-4009-e378-ca0521a64559"
      },
      "execution_count": 26,
      "outputs": [
        {
          "output_type": "stream",
          "name": "stdout",
          "text": [
            "Epoch 1/3\n",
            "469/469 [==============================] - 2s 3ms/step - loss: 0.5440 - accuracy: 0.8397\n",
            "Epoch 2/3\n",
            "469/469 [==============================] - 1s 3ms/step - loss: 0.2055 - accuracy: 0.9405\n",
            "Epoch 3/3\n",
            "469/469 [==============================] - 1s 3ms/step - loss: 0.1409 - accuracy: 0.9578\n"
          ]
        },
        {
          "output_type": "execute_result",
          "data": {
            "text/plain": [
              "<keras.callbacks.History at 0x7f04501efb90>"
            ]
          },
          "metadata": {},
          "execution_count": 26
        }
      ]
    },
    {
      "cell_type": "code",
      "source": [
        "net.evaluate(x_test, y_test)"
      ],
      "metadata": {
        "colab": {
          "base_uri": "https://localhost:8080/"
        },
        "id": "XEspZb9Feo1r",
        "outputId": "9a799176-2ade-4e9f-ea1f-8709ffb4511e"
      },
      "execution_count": 27,
      "outputs": [
        {
          "output_type": "stream",
          "name": "stdout",
          "text": [
            "313/313 [==============================] - 1s 2ms/step - loss: 0.1487 - accuracy: 0.9549\n"
          ]
        },
        {
          "output_type": "execute_result",
          "data": {
            "text/plain": [
              "[0.14873085916042328, 0.9549000263214111]"
            ]
          },
          "metadata": {},
          "execution_count": 27
        }
      ]
    },
    {
      "cell_type": "markdown",
      "source": [
        "# 5. File I/O"
      ],
      "metadata": {
        "id": "XH4krCgdhgXJ"
      }
    },
    {
      "cell_type": "markdown",
      "source": [
        "### Save / Load Tensor\n",
        "Untuk tensor, kita bisa menggunakan numpy.save(namaFile.npy, tensor) untuk menyimpan tensor dan numpy.load(namaFile.npy) untuk memuatnya."
      ],
      "metadata": {
        "id": "hXwr5srMhhwe"
      }
    },
    {
      "cell_type": "code",
      "source": [
        "save_x= tf.constant(['a', 'b', 'c'])\n",
        "save_x"
      ],
      "metadata": {
        "colab": {
          "base_uri": "https://localhost:8080/"
        },
        "id": "OYR7ChOMerHz",
        "outputId": "c11b07bd-0962-4fa4-d434-027e174a8fff"
      },
      "execution_count": 28,
      "outputs": [
        {
          "output_type": "execute_result",
          "data": {
            "text/plain": [
              "<tf.Tensor: shape=(3,), dtype=string, numpy=array([b'a', b'b', b'c'], dtype=object)>"
            ]
          },
          "metadata": {},
          "execution_count": 28
        }
      ]
    },
    {
      "cell_type": "markdown",
      "source": [
        "Menyimpan tensor"
      ],
      "metadata": {
        "id": "lvcSsjI7hmtm"
      }
    },
    {
      "cell_type": "code",
      "source": [
        "import numpy as np\n",
        "\n",
        "np.save('save-x.npy', save_x)"
      ],
      "metadata": {
        "id": "wBnApMtrer8b"
      },
      "execution_count": 29,
      "outputs": []
    },
    {
      "cell_type": "markdown",
      "source": [
        "Meload tensor"
      ],
      "metadata": {
        "id": "YehhAkFyhq4q"
      }
    },
    {
      "cell_type": "code",
      "source": [
        "temp_x= np.load('save-x.npy', allow_pickle=True)\n",
        "temp_x"
      ],
      "metadata": {
        "colab": {
          "base_uri": "https://localhost:8080/"
        },
        "id": "b-PqOWRzeuA9",
        "outputId": "3db464b0-0c60-469c-bf9e-cb1d9d46a15b"
      },
      "execution_count": 30,
      "outputs": [
        {
          "output_type": "execute_result",
          "data": {
            "text/plain": [
              "array([b'a', b'b', b'c'], dtype=object)"
            ]
          },
          "metadata": {},
          "execution_count": 30
        }
      ]
    },
    {
      "cell_type": "markdown",
      "source": [
        "### Save / Load Model Parameter\n",
        "Misal model kita seperti ini"
      ],
      "metadata": {
        "id": "QLVkA1QjhtU9"
      }
    },
    {
      "cell_type": "code",
      "source": [
        "class MLP(tf.keras.Model):\n",
        "    def __init__(self):\n",
        "        super().__init__()\n",
        "        self.flatten = tf.keras.layers.Flatten()\n",
        "        self.hidden = tf.keras.layers.Dense(units=256, activation=tf.nn.relu)\n",
        "        self.out = tf.keras.layers.Dense(units=10)\n",
        "\n",
        "    def call(self, inputs):\n",
        "        x = self.flatten(inputs)\n",
        "        x = self.hidden(x)\n",
        "        return self.out(x)\n",
        "\n",
        "net= MLP()"
      ],
      "metadata": {
        "id": "z1HPT-m8exal"
      },
      "execution_count": 31,
      "outputs": []
    },
    {
      "cell_type": "markdown",
      "source": [
        "Lalu kita melakukan feed forward pada model"
      ],
      "metadata": {
        "id": "vpfJqpT3hwIn"
      }
    },
    {
      "cell_type": "code",
      "source": [
        "Y1= net(X)\n",
        "Y1"
      ],
      "metadata": {
        "colab": {
          "base_uri": "https://localhost:8080/"
        },
        "id": "uOnTLfxIeyM9",
        "outputId": "d8413cc7-2c42-4260-faf7-bb8da25f036d"
      },
      "execution_count": 32,
      "outputs": [
        {
          "output_type": "execute_result",
          "data": {
            "text/plain": [
              "<tf.Tensor: shape=(2, 10), dtype=float32, numpy=\n",
              "array([[-0.13764443, -0.10538355,  0.12070184,  0.02399941, -0.07400499,\n",
              "        -0.1601918 , -0.03911384, -0.01174514,  0.09229151, -0.14785086],\n",
              "       [-0.05391055, -0.05772851,  0.05543849,  0.03385137, -0.06745581,\n",
              "        -0.07958122, -0.00766912,  0.027484  ,  0.05311727, -0.04992761]],\n",
              "      dtype=float32)>"
            ]
          },
          "metadata": {},
          "execution_count": 32
        }
      ]
    },
    {
      "cell_type": "markdown",
      "source": [
        "Sekarang kita akan menyimpan parameter model dengan fungsi save_weights('nama_weight.params')"
      ],
      "metadata": {
        "id": "HurLwbmFh1Ti"
      }
    },
    {
      "cell_type": "code",
      "source": [
        "net.save_weights('mlp.params')"
      ],
      "metadata": {
        "id": "prGR3G3Dez1F"
      },
      "execution_count": 33,
      "outputs": []
    },
    {
      "cell_type": "markdown",
      "source": [
        "Sekarang kita akan membuat model dengan arsitektur yang sama tapi tidak dilakukan feed forward, sebaliknya parameternya diambil/diload dari file parameter yang telah di-save sebelumnya"
      ],
      "metadata": {
        "id": "YzNNKShpiBOM"
      }
    },
    {
      "cell_type": "code",
      "source": [
        "net_2= MLP()\n",
        "net_2.load_weights('mlp.params')\n",
        "\n",
        "# Feed forward\n",
        "Y2= net_2(X)"
      ],
      "metadata": {
        "id": "YuR0QhwXe2Kw"
      },
      "execution_count": 34,
      "outputs": []
    },
    {
      "cell_type": "markdown",
      "source": [
        "Sekarang kita akan membandingkan variabel Y1 dengan Y2"
      ],
      "metadata": {
        "id": "VhwAKzZIh3eF"
      }
    },
    {
      "cell_type": "code",
      "source": [
        "Y1==Y2"
      ],
      "metadata": {
        "colab": {
          "base_uri": "https://localhost:8080/"
        },
        "id": "8Ew5eFJhe4Pv",
        "outputId": "0475c37f-5a28-48d0-dcaa-1fad4b7d57a1"
      },
      "execution_count": 35,
      "outputs": [
        {
          "output_type": "execute_result",
          "data": {
            "text/plain": [
              "<tf.Tensor: shape=(2, 10), dtype=bool, numpy=\n",
              "array([[ True,  True,  True,  True,  True,  True,  True,  True,  True,\n",
              "         True],\n",
              "       [ True,  True,  True,  True,  True,  True,  True,  True,  True,\n",
              "         True]])>"
            ]
          },
          "metadata": {},
          "execution_count": 35
        }
      ]
    },
    {
      "cell_type": "markdown",
      "source": [
        "Hasilnya adalah sama"
      ],
      "metadata": {
        "id": "eVcVQUXkh8zV"
      }
    },
    {
      "cell_type": "markdown",
      "source": [
        "# 6. GPUs\n",
        "Mengecek ketersediaan GPU"
      ],
      "metadata": {
        "id": "k_D2HoE1iGAg"
      }
    },
    {
      "cell_type": "code",
      "source": [
        "!nvidia-smi"
      ],
      "metadata": {
        "colab": {
          "base_uri": "https://localhost:8080/"
        },
        "id": "EJ2UJQVXe6bp",
        "outputId": "1bc972e2-4d91-47d6-e60e-363febef2262"
      },
      "execution_count": 36,
      "outputs": [
        {
          "output_type": "stream",
          "name": "stdout",
          "text": [
            "Sat Apr 23 13:42:13 2022       \n",
            "+-----------------------------------------------------------------------------+\n",
            "| NVIDIA-SMI 460.32.03    Driver Version: 460.32.03    CUDA Version: 11.2     |\n",
            "|-------------------------------+----------------------+----------------------+\n",
            "| GPU  Name        Persistence-M| Bus-Id        Disp.A | Volatile Uncorr. ECC |\n",
            "| Fan  Temp  Perf  Pwr:Usage/Cap|         Memory-Usage | GPU-Util  Compute M. |\n",
            "|                               |                      |               MIG M. |\n",
            "|===============================+======================+======================|\n",
            "|   0  Tesla T4            Off  | 00000000:00:04.0 Off |                    0 |\n",
            "| N/A   61C    P0    28W /  70W |    944MiB / 15109MiB |      0%      Default |\n",
            "|                               |                      |                  N/A |\n",
            "+-------------------------------+----------------------+----------------------+\n",
            "                                                                               \n",
            "+-----------------------------------------------------------------------------+\n",
            "| Processes:                                                                  |\n",
            "|  GPU   GI   CI        PID   Type   Process name                  GPU Memory |\n",
            "|        ID   ID                                                   Usage      |\n",
            "|=============================================================================|\n",
            "+-----------------------------------------------------------------------------+\n"
          ]
        }
      ]
    },
    {
      "cell_type": "markdown",
      "source": [
        "Kita dapat menentukan device, seperti CPU dan GPU, untuk penyimpanan dan komputasi. Secara default, tensor dibuat di memori utama dan menggunakan CPU untuk komputasi."
      ],
      "metadata": {
        "id": "5UOWxyVhiK1o"
      }
    },
    {
      "cell_type": "code",
      "source": [
        "tf.device('/CPU:0'), tf.device('/GPU:0'), tf.device('/GPU:1')"
      ],
      "metadata": {
        "colab": {
          "base_uri": "https://localhost:8080/"
        },
        "id": "wOouwlDWe-Gh",
        "outputId": "27f1b33e-06a4-4885-b73d-1e8d328abda0"
      },
      "execution_count": 37,
      "outputs": [
        {
          "output_type": "execute_result",
          "data": {
            "text/plain": [
              "(<tensorflow.python.eager.context._EagerDeviceContext at 0x7f03ca15bb40>,\n",
              " <tensorflow.python.eager.context._EagerDeviceContext at 0x7f03ca15ba50>,\n",
              " <tensorflow.python.eager.context._EagerDeviceContext at 0x7f03ca15b910>)"
            ]
          },
          "metadata": {},
          "execution_count": 37
        }
      ]
    },
    {
      "cell_type": "markdown",
      "source": [
        "Kita bisa menjalankan query untuk mendapatkan berapa banyak GPU dalam sistem"
      ],
      "metadata": {
        "id": "ZZ_lWjMqiNC-"
      }
    },
    {
      "cell_type": "code",
      "source": [
        "len(tf.config.experimental.list_physical_devices('GPU'))"
      ],
      "metadata": {
        "colab": {
          "base_uri": "https://localhost:8080/"
        },
        "id": "wGuBC89nfAzY",
        "outputId": "49be08f8-ae99-4f38-aa23-d3e72939d7f8"
      },
      "execution_count": 38,
      "outputs": [
        {
          "output_type": "execute_result",
          "data": {
            "text/plain": [
              "1"
            ]
          },
          "metadata": {},
          "execution_count": 38
        }
      ]
    },
    {
      "cell_type": "markdown",
      "source": [
        "### Tensor dan GPU\n",
        "\n",
        "Secara default, tensor dibuat dalam CPU, untuk melihat di device mana suatu tensor berada kita bisa menjalankan fungsi seperti ini"
      ],
      "metadata": {
        "id": "6pxV_4QWiPmC"
      }
    },
    {
      "cell_type": "code",
      "source": [
        "x = tf.constant([1, 2, 3])\n",
        "x.device"
      ],
      "metadata": {
        "colab": {
          "base_uri": "https://localhost:8080/",
          "height": 35
        },
        "id": "u8HrMjwTfCtx",
        "outputId": "c88995d6-68c1-4617-d488-3c6fd57070a4"
      },
      "execution_count": 39,
      "outputs": [
        {
          "output_type": "execute_result",
          "data": {
            "text/plain": [
              "'/job:localhost/replica:0/task:0/device:GPU:0'"
            ],
            "application/vnd.google.colaboratory.intrinsic+json": {
              "type": "string"
            }
          },
          "metadata": {},
          "execution_count": 39
        }
      ]
    },
    {
      "cell_type": "markdown",
      "source": [
        "Outputnya mengatakan GPU karena saya menggunakan google colabs dan telah mengatur runtime pada saat penulisan kode, namun secara default, kalau tidak didefinisikan, akan mengeluarkan output CPU"
      ],
      "metadata": {
        "id": "ir75iQROiTmC"
      }
    },
    {
      "cell_type": "markdown",
      "source": [
        "### Menyetel penggunaan GPU\n",
        "\n",
        "Misal kita ingin menggunakan GPU pertama atau GPU:0"
      ],
      "metadata": {
        "id": "f5rFgIo4iUef"
      }
    },
    {
      "cell_type": "code",
      "source": [
        "tf.device('GPU:0')"
      ],
      "metadata": {
        "colab": {
          "base_uri": "https://localhost:8080/"
        },
        "id": "KQDQkVebfFRJ",
        "outputId": "b73d4db4-93e3-4001-f109-061649fb16a0"
      },
      "execution_count": 40,
      "outputs": [
        {
          "output_type": "execute_result",
          "data": {
            "text/plain": [
              "<tensorflow.python.eager.context._EagerDeviceContext at 0x7f03ca16cbe0>"
            ]
          },
          "metadata": {},
          "execution_count": 40
        }
      ]
    },
    {
      "cell_type": "code",
      "source": [
        "with tf.device('GPU:0'):\n",
        "    test = tf.ones((2, 3))\n",
        "\n",
        "test.device"
      ],
      "metadata": {
        "colab": {
          "base_uri": "https://localhost:8080/",
          "height": 35
        },
        "id": "kMy9_8RsfHQv",
        "outputId": "2e63e8d0-e879-42a8-fdcc-c04e40661ca6"
      },
      "execution_count": 41,
      "outputs": [
        {
          "output_type": "execute_result",
          "data": {
            "text/plain": [
              "'/job:localhost/replica:0/task:0/device:GPU:0'"
            ],
            "application/vnd.google.colaboratory.intrinsic+json": {
              "type": "string"
            }
          },
          "metadata": {},
          "execution_count": 41
        }
      ]
    },
    {
      "cell_type": "markdown",
      "source": [
        "Hati-hati saat pemilihan GPU terutama jika kita memiliki lebih dari satu GPU dalam satu komputer, karena akan terjadi error jika kita melakukan operasi yang melibatkan 2 tensor yang berada di GPU yang berbeda"
      ],
      "metadata": {
        "id": "KpdNBVgaiZzl"
      }
    }
  ]
}