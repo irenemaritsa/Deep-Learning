{
  "nbformat": 4,
  "nbformat_minor": 0,
  "metadata": {
    "colab": {
      "name": "Tugas3.ipynb",
      "provenance": []
    },
    "kernelspec": {
      "name": "python3",
      "display_name": "Python 3"
    },
    "language_info": {
      "name": "python"
    },
    "accelerator": "GPU"
  },
  "cells": [
    {
      "cell_type": "markdown",
      "source": [
        "Nama: Irene Maritsa\n",
        "\n",
        "NIM: H071191026\n",
        "\n",
        "Pelajari Chapter 5 dari d2l.ai : Deep Learning Computation"
      ],
      "metadata": {
        "id": "q8olGtRRfK_w"
      }
    },
    {
      "cell_type": "code",
      "execution_count": 1,
      "metadata": {
        "id": "1yqSlQc2ZMiy"
      },
      "outputs": [],
      "source": [
        "import tensorflow as tf\n",
        "from tensorflow import keras"
      ]
    },
    {
      "cell_type": "markdown",
      "source": [
        "# 1. Layer dan Blocks\n",
        "\n",
        "Layer merupakan arsitektur atau struktur yang berisi kumpulan node yang beroperasi secara dan di waktu yang bersamaan, yang mengambil informasi dari layer sebelumnya dan kemudian meneruskan informasi ke layer berikutnya.\n",
        "\n",
        "Block atau neural network blocks merupakan konsep di mana satu atau lebih layer digambarkan / diabstraksi menjadi satu komponen (block). Salah satu manfaat utama dari abstraksi blocks adalah blocks ini bisa lagi dikombinasikan menjadi struktur yang lebih besar (biasanya secara rekursif).\n",
        "\n",
        "Dengan menggunakan konsep blocks ini, kita tetap dapat menulis kode yang ringkas dan masih mengimplementasikan neural net yang kompleks. Untuk mengimplementasikan blocks, kita membuat fungsi atau jika ingin fleksibel, kelas turunan dari tensorflow.keras.Model yang memiliki fungsi forward propagation (fungsi call()) . \n",
        "\n",
        "Contoh implementasi kode\n"
      ],
      "metadata": {
        "id": "ukFbKIlzfZVN"
      }
    },
    {
      "cell_type": "code",
      "source": [
        "# Data: digenerate secara random\n",
        "X = tf.random.uniform((2, 20))\n",
        "\n",
        "X"
      ],
      "metadata": {
        "id": "a6E-MTlsaD0A",
        "colab": {
          "base_uri": "https://localhost:8080/"
        },
        "outputId": "6b3ca972-80f3-40e4-e858-ac57ee1cf232"
      },
      "execution_count": 2,
      "outputs": [
        {
          "output_type": "execute_result",
          "data": {
            "text/plain": [
              "<tf.Tensor: shape=(2, 20), dtype=float32, numpy=\n",
              "array([[0.86675084, 0.29700303, 0.7026851 , 0.48117244, 0.56571317,\n",
              "        0.42220592, 0.03085005, 0.09053874, 0.5019802 , 0.7673718 ,\n",
              "        0.62660456, 0.9781785 , 0.5200552 , 0.95356095, 0.2855531 ,\n",
              "        0.65117395, 0.33992577, 0.58180165, 0.29142535, 0.6895231 ],\n",
              "       [0.52908766, 0.91594005, 0.15600145, 0.7724452 , 0.61576056,\n",
              "        0.66444564, 0.5583708 , 0.58931804, 0.5205798 , 0.05308056,\n",
              "        0.26320124, 0.5118493 , 0.778798  , 0.8806647 , 0.12430382,\n",
              "        0.5067482 , 0.3468107 , 0.08116746, 0.49459398, 0.47376442]],\n",
              "      dtype=float32)>"
            ]
          },
          "metadata": {},
          "execution_count": 2
        }
      ]
    },
    {
      "cell_type": "markdown",
      "source": [
        "Misalnya model yang akan dijadikan blok merupakan model seperti ini"
      ],
      "metadata": {
        "id": "jElUHKuGgA23"
      }
    },
    {
      "cell_type": "code",
      "source": [
        "block1 = keras.models.Sequential([\n",
        "    keras.layers.Dense(256, activation=tf.nn.relu),\n",
        "    keras.layers.Dense(10),\n",
        "])"
      ],
      "metadata": {
        "id": "-4y-vFF_aHn9"
      },
      "execution_count": 3,
      "outputs": []
    },
    {
      "cell_type": "markdown",
      "source": [
        "Bentuk bloknya"
      ],
      "metadata": {
        "id": "pKeB4MwTgCLE"
      }
    },
    {
      "cell_type": "code",
      "source": [
        "class Block1(keras.Model):\n",
        "    def __init__(self):\n",
        "        super().__init__()\n",
        "        self.layer_list= []\n",
        "        self.layer_list.append(keras.layers.Dense(256, activation=tf.nn.relu))\n",
        "        self.layer_list.append(keras.layers.Dense(10))\n",
        "        self.layer_list.reverse()\n",
        "    \n",
        "    def call(self, X):\n",
        "        result_temp= X\n",
        "\n",
        "        # Melakukan forward propagation sampai layer terakhir dalam list \n",
        "        while bool(self.layer_list):\n",
        "            result_temp= self.layer_list.pop()(result_temp)\n",
        "\n",
        "        return result_temp\n",
        "        # return 1"
      ],
      "metadata": {
        "id": "TlyPLqfAaLuu"
      },
      "execution_count": 4,
      "outputs": []
    },
    {
      "cell_type": "code",
      "source": [
        "net= Block1()\n",
        "net(X) # Sama saja dengan net.call(X)"
      ],
      "metadata": {
        "colab": {
          "base_uri": "https://localhost:8080/"
        },
        "id": "tsIOXwWlaO83",
        "outputId": "f70565b1-3be6-43d1-8c31-46b89458dc0f"
      },
      "execution_count": 5,
      "outputs": [
        {
          "output_type": "execute_result",
          "data": {
            "text/plain": [
              "<tf.Tensor: shape=(2, 10), dtype=float32, numpy=\n",
              "array([[ 8.01609233e-02, -2.62070447e-01,  1.03592329e-01,\n",
              "        -4.50591035e-02,  4.39621555e-03,  1.91465467e-01,\n",
              "         2.75752097e-01, -3.06465566e-01,  4.10254523e-02,\n",
              "         3.06633890e-01],\n",
              "       [ 1.09469488e-01, -1.10643461e-01,  8.38672891e-02,\n",
              "        -2.58534827e-04,  1.59429014e-02,  1.02652401e-01,\n",
              "         3.26629996e-01, -1.02953464e-01, -8.62429738e-02,\n",
              "         5.55656254e-02]], dtype=float32)>"
            ]
          },
          "metadata": {},
          "execution_count": 5
        }
      ]
    },
    {
      "cell_type": "markdown",
      "source": [
        "Selanjutnya kita akan membuat block ke dua yang tidak mengandung layer satu per satu tapi mengandung model"
      ],
      "metadata": {
        "id": "AegS-zeIgHWQ"
      }
    },
    {
      "cell_type": "code",
      "source": [
        "class Block2(keras.Model):\n",
        "    def __init__(self):\n",
        "        super().__init__()\n",
        "        self.net= keras.Sequential()\n",
        "        self.net.add(keras.layers.Dense(256, activation=tf.nn.relu))\n",
        "        self.net.add(keras.layers.Dense(10))\n",
        "    \n",
        "    def call(self, X):\n",
        "        return self.net(X)"
      ],
      "metadata": {
        "id": "FDPqXyRKdbnj"
      },
      "execution_count": 6,
      "outputs": []
    },
    {
      "cell_type": "markdown",
      "source": [
        "Kemudian satukan"
      ],
      "metadata": {
        "id": "2Y2gX6DrgJgZ"
      }
    },
    {
      "cell_type": "code",
      "source": [
        "net= keras.Sequential()\n",
        "\n",
        "# Menambahkan layer pertama yang mana merupakan block 2\n",
        "net.add(Block2())\n",
        "\n",
        "# Menambahkan block 1\n",
        "net.add(Block1())\n",
        "\n",
        "# # Menambahkan satu lagi layer dense biasa\n",
        "net.add(keras.layers.Dense(10, activation= 'sigmoid'))\n",
        "\n",
        "# Melakukan forward propagation\n",
        "net(X)"
      ],
      "metadata": {
        "colab": {
          "base_uri": "https://localhost:8080/"
        },
        "id": "MKygBKVvdsCW",
        "outputId": "aba48e91-5f3e-4a7a-ddf3-07072e716bfc"
      },
      "execution_count": 7,
      "outputs": [
        {
          "output_type": "execute_result",
          "data": {
            "text/plain": [
              "<tf.Tensor: shape=(2, 10), dtype=float32, numpy=\n",
              "array([[0.5083747 , 0.55362755, 0.5165092 , 0.3991169 , 0.4937354 ,\n",
              "        0.4360028 , 0.5363945 , 0.5499353 , 0.44155607, 0.60816795],\n",
              "       [0.53501   , 0.49403536, 0.49773425, 0.45228022, 0.50313896,\n",
              "        0.45818245, 0.5485296 , 0.5309845 , 0.466479  , 0.5492742 ]],\n",
              "      dtype=float32)>"
            ]
          },
          "metadata": {},
          "execution_count": 7
        }
      ]
    },
    {
      "cell_type": "markdown",
      "source": [
        "# 2. Parameter Management\n",
        "\n",
        "Parameter management atau manajemen parameter termasuk (Parameter dalam kasus neural network contohnya weight dan bias, fungsi loss atau learning rate merupakan hyperparameter):\n",
        "\n",
        "Mengakses parameter untuk debugging, diagnostik, dan visualisasi.\n",
        "Inisialisasi parameter.\n",
        "Berbagi parameter dengan komponen model lain.\n",
        "\n"
      ],
      "metadata": {
        "id": "BS5obHIDgNHE"
      }
    },
    {
      "cell_type": "markdown",
      "source": [
        "## Mengakses Parameter\n",
        "\n",
        "Model:"
      ],
      "metadata": {
        "id": "uMxTOx0Zga5J"
      }
    },
    {
      "cell_type": "code",
      "source": [
        "net = keras.models.Sequential([\n",
        "    keras.layers.Flatten(),\n",
        "    keras.layers.Dense(4, activation=tf.nn.relu),\n",
        "    keras.layers.Dense(1),\n",
        "])\n",
        "\n",
        "X = tf.random.uniform((2, 4))\n",
        "net(X)"
      ],
      "metadata": {
        "colab": {
          "base_uri": "https://localhost:8080/"
        },
        "id": "L6s19NbodvZU",
        "outputId": "41a5adf7-670c-4aa2-a1f5-07db496ccf43"
      },
      "execution_count": 8,
      "outputs": [
        {
          "output_type": "execute_result",
          "data": {
            "text/plain": [
              "<tf.Tensor: shape=(2, 1), dtype=float32, numpy=\n",
              "array([[-0.11810564],\n",
              "       [-0.57233703]], dtype=float32)>"
            ]
          },
          "metadata": {},
          "execution_count": 8
        }
      ]
    },
    {
      "cell_type": "markdown",
      "source": [
        "Mengambil weight dan bias dari setiap layer net"
      ],
      "metadata": {
        "id": "eC_mZ2gNggKs"
      }
    },
    {
      "cell_type": "code",
      "source": [
        "net.weights\n",
        "# Atau net.get_weights()"
      ],
      "metadata": {
        "colab": {
          "base_uri": "https://localhost:8080/"
        },
        "id": "F6XZCxNKdyUj",
        "outputId": "fac87b73-fe6c-4bcc-b6be-f69087abccf3"
      },
      "execution_count": 9,
      "outputs": [
        {
          "output_type": "execute_result",
          "data": {
            "text/plain": [
              "[<tf.Variable 'dense_9/kernel:0' shape=(4, 4) dtype=float32, numpy=\n",
              " array([[ 0.5770101 , -0.8510938 , -0.7193422 ,  0.49523228],\n",
              "        [ 0.22963458,  0.5008809 ,  0.6824108 , -0.8624928 ],\n",
              "        [ 0.6638021 ,  0.08449888,  0.8158731 ,  0.37731212],\n",
              "        [-0.4486405 , -0.67031264, -0.33020413,  0.21575874]],\n",
              "       dtype=float32)>,\n",
              " <tf.Variable 'dense_9/bias:0' shape=(4,) dtype=float32, numpy=array([0., 0., 0., 0.], dtype=float32)>,\n",
              " <tf.Variable 'dense_10/kernel:0' shape=(4, 1) dtype=float32, numpy=\n",
              " array([[-0.7512425 ],\n",
              "        [ 0.36477852],\n",
              "        [ 0.3069142 ],\n",
              "        [-0.9918738 ]], dtype=float32)>,\n",
              " <tf.Variable 'dense_10/bias:0' shape=(1,) dtype=float32, numpy=array([0.], dtype=float32)>]"
            ]
          },
          "metadata": {},
          "execution_count": 9
        }
      ]
    },
    {
      "cell_type": "markdown",
      "source": [
        "Untuk mendapatkan parameter pada layer yang ingin diakses, dilakukan dengan memanggil atribut .layers[index dari layer] dari model sequential. Misal layer yang ingin diakses parameternya yaitu layer indeks ke-1"
      ],
      "metadata": {
        "id": "GdwGyb3PgkmJ"
      }
    },
    {
      "cell_type": "markdown",
      "source": [
        "net.layers[1]"
      ],
      "metadata": {
        "id": "eCPiqT6Vd0F4"
      }
    },
    {
      "cell_type": "markdown",
      "source": [
        "Selanjutnya untuk mengakses parameter weight dan bias"
      ],
      "metadata": {
        "id": "gIAL7XW6giwS"
      }
    },
    {
      "cell_type": "code",
      "source": [
        "net.layers[1].weights"
      ],
      "metadata": {
        "colab": {
          "base_uri": "https://localhost:8080/"
        },
        "id": "mRvH1HHqd4PT",
        "outputId": "6258ed9d-2619-4e39-ac08-f1051688236b"
      },
      "execution_count": 10,
      "outputs": [
        {
          "output_type": "execute_result",
          "data": {
            "text/plain": [
              "[<tf.Variable 'dense_9/kernel:0' shape=(4, 4) dtype=float32, numpy=\n",
              " array([[ 0.5770101 , -0.8510938 , -0.7193422 ,  0.49523228],\n",
              "        [ 0.22963458,  0.5008809 ,  0.6824108 , -0.8624928 ],\n",
              "        [ 0.6638021 ,  0.08449888,  0.8158731 ,  0.37731212],\n",
              "        [-0.4486405 , -0.67031264, -0.33020413,  0.21575874]],\n",
              "       dtype=float32)>,\n",
              " <tf.Variable 'dense_9/bias:0' shape=(4,) dtype=float32, numpy=array([0., 0., 0., 0.], dtype=float32)>]"
            ]
          },
          "metadata": {},
          "execution_count": 10
        }
      ]
    },
    {
      "cell_type": "markdown",
      "source": [
        "Outputnya berupa array, indeks ke-0 merupakan weights, indeks ke-1 merupakan bias\n",
        "\n",
        "Untuk layer yang berupa block (memiliki layer lagi di dalamnya), kita tetap bisa mengakses nya seperti ini:\n",
        "\n",
        "net.layers[0].layers[1].layers[1].weights[1]"
      ],
      "metadata": {
        "id": "zBLcRKWCgr_v"
      }
    },
    {
      "cell_type": "markdown",
      "source": [
        "### Inisialisasi Parameter\n",
        "\n",
        "Secara default (untuk tensorflow), matriks weight diinisialisasikan berdasarkan range yang dikomputasi dari dimensi input dan output, sementara parameter bias mempunyai nilai default 0.\n",
        "\n",
        "Misal menginisialisasi weight sebagai variabel random Gaussian dengan standar deviasi 0.01, dan menginisialisasi parameter bias dengan nilai 0."
      ],
      "metadata": {
        "id": "zmAZRa5Ggs9t"
      }
    },
    {
      "cell_type": "code",
      "source": [
        "net = keras.models.Sequential([\n",
        "    keras.layers.Flatten(),\n",
        "    keras.layers.Dense(4, activation=tf.nn.relu, \n",
        "                       kernel_initializer=tf.random_normal_initializer(mean=0, stddev=0.01), \n",
        "                       bias_initializer=tf.zeros_initializer()),\n",
        "    keras.layers.Dense(1)\n",
        "])\n",
        "\n",
        "net(X)\n",
        "net.layers[1].weights[0], net.layers[1].weights[1]"
      ],
      "metadata": {
        "colab": {
          "base_uri": "https://localhost:8080/"
        },
        "id": "zdE8wRcWd76H",
        "outputId": "14b154ae-2181-4c64-c61d-c2ca42b40923"
      },
      "execution_count": 11,
      "outputs": [
        {
          "output_type": "execute_result",
          "data": {
            "text/plain": [
              "(<tf.Variable 'dense_11/kernel:0' shape=(4, 4) dtype=float32, numpy=\n",
              " array([[-0.02091935,  0.01042824, -0.02560832,  0.00581529],\n",
              "        [-0.01222676, -0.00815193, -0.00367557, -0.01373396],\n",
              "        [-0.01474115,  0.01481128, -0.00560522,  0.00126118],\n",
              "        [ 0.00658395,  0.00148005, -0.02134722, -0.01984916]],\n",
              "       dtype=float32)>,\n",
              " <tf.Variable 'dense_11/bias:0' shape=(4,) dtype=float32, numpy=array([0., 0., 0., 0.], dtype=float32)>)"
            ]
          },
          "metadata": {},
          "execution_count": 11
        }
      ]
    },
    {
      "cell_type": "markdown",
      "source": [
        "Kita juga bisa menginisialisasikan weight yang berbeda pada setiap layer, misal weight layer dense kedua diisi dengan angka konstan 0.5."
      ],
      "metadata": {
        "id": "W29V8_MUgzLD"
      }
    },
    {
      "cell_type": "code",
      "source": [
        "net = keras.models.Sequential([\n",
        "    keras.layers.Flatten(),\n",
        "    keras.layers.Dense(4, activation=tf.nn.relu, \n",
        "                       kernel_initializer=tf.random_normal_initializer(mean=0, stddev=0.01), \n",
        "                       bias_initializer=tf.zeros_initializer()),\n",
        "    keras.layers.Dense(4, activation=tf.nn.relu, \n",
        "                       kernel_initializer=keras.initializers.Constant(0.5), \n",
        "                       bias_initializer=tf.zeros_initializer()),\n",
        "    keras.layers.Dense(1)\n",
        "])\n",
        "\n",
        "net(X)\n",
        "net.layers[1].weights[0], net.layers[2].weights[0]"
      ],
      "metadata": {
        "colab": {
          "base_uri": "https://localhost:8080/"
        },
        "id": "DKBPkylId-aD",
        "outputId": "21007d65-bf56-463f-a1d2-fad5ca3f46e4"
      },
      "execution_count": 12,
      "outputs": [
        {
          "output_type": "execute_result",
          "data": {
            "text/plain": [
              "(<tf.Variable 'dense_13/kernel:0' shape=(4, 4) dtype=float32, numpy=\n",
              " array([[ 0.00210222, -0.02335702, -0.00528331,  0.00504105],\n",
              "        [ 0.00683558,  0.01486932,  0.00776506,  0.00148767],\n",
              "        [ 0.01109169, -0.0249704 ,  0.00198765, -0.00016486],\n",
              "        [ 0.00205768,  0.02211519, -0.0042257 ,  0.015715  ]],\n",
              "       dtype=float32)>,\n",
              " <tf.Variable 'dense_14/kernel:0' shape=(4, 4) dtype=float32, numpy=\n",
              " array([[0.5, 0.5, 0.5, 0.5],\n",
              "        [0.5, 0.5, 0.5, 0.5],\n",
              "        [0.5, 0.5, 0.5, 0.5],\n",
              "        [0.5, 0.5, 0.5, 0.5]], dtype=float32)>)"
            ]
          },
          "metadata": {},
          "execution_count": 12
        }
      ]
    },
    {
      "cell_type": "markdown",
      "source": [
        "Kita juga bisa membuat subclass kita sendiri untuk inisialisasi weight jika cara di atas kurang flexibel, caranya yaitu kita membuat class subclass dari keras.initializers.Initializer , lalu mengimplementasikan method call(shape, dtype) yang me-return tensor (berisi weight inisial) yang isinya sesuai kemauan kita"
      ],
      "metadata": {
        "id": "ql4RyBzXg4NK"
      }
    },
    {
      "cell_type": "code",
      "source": [
        "# Di sini kita membuat class untuk inisialisasi weight\n",
        "class MyInit(tf.keras.initializers.Initializer):\n",
        "    def __call__(self, shape, dtype=None):\n",
        "        data=tf.random.uniform(shape, -10, 10, dtype=dtype)\n",
        "        factor=(tf.abs(data) >= 5)\n",
        "        factor=tf.cast(factor, tf.float32)\n",
        "        return data * factor"
      ],
      "metadata": {
        "id": "-10Nv3XyeCLd"
      },
      "execution_count": 13,
      "outputs": []
    },
    {
      "cell_type": "code",
      "source": [
        "MyInit().__call__(shape=(3, 3), dtype=tf.float32)"
      ],
      "metadata": {
        "colab": {
          "base_uri": "https://localhost:8080/"
        },
        "id": "_yEyq_oceDXN",
        "outputId": "99f8ac9a-9ef9-47ab-edf1-d73b96bbfef6"
      },
      "execution_count": 14,
      "outputs": [
        {
          "output_type": "execute_result",
          "data": {
            "text/plain": [
              "<tf.Tensor: shape=(3, 3), dtype=float32, numpy=\n",
              "array([[-0.      , -8.486891,  0.      ],\n",
              "       [-8.794742, -0.      , -5.529537],\n",
              "       [-9.116373,  8.338263, -0.      ]], dtype=float32)>"
            ]
          },
          "metadata": {},
          "execution_count": 14
        }
      ]
    },
    {
      "cell_type": "code",
      "source": [
        "net = keras.models.Sequential([\n",
        "    keras.layers.Flatten(),\n",
        "    # Memasukkan kelas initializer pada parameter kernel_initializer\n",
        "    keras.layers.Dense(4, activation=tf.nn.relu, kernel_initializer=MyInit()),\n",
        "    keras.layers.Dense(1),\n",
        "])\n",
        "\n",
        "net(X)\n",
        "print(net.layers[1].weights[0])"
      ],
      "metadata": {
        "colab": {
          "base_uri": "https://localhost:8080/"
        },
        "id": "WwTeJYSdeFVD",
        "outputId": "c1c3eb44-cbc0-43a1-fee4-bcc2e1194b95"
      },
      "execution_count": 15,
      "outputs": [
        {
          "output_type": "stream",
          "name": "stdout",
          "text": [
            "<tf.Variable 'dense_16/kernel:0' shape=(4, 4) dtype=float32, numpy=\n",
            "array([[ 6.7792206, -6.067848 ,  0.       , -6.0576963],\n",
            "       [ 0.       , -0.       ,  9.891411 , -0.       ],\n",
            "       [-8.1249   , -9.604306 , -5.5695224, -0.       ],\n",
            "       [-8.809593 , -8.938206 , -5.055747 , -9.341871 ]], dtype=float32)>\n"
          ]
        }
      ]
    },
    {
      "cell_type": "markdown",
      "source": [
        "# 3. Deferred Initialization\n",
        "Inisialisasi weight pada model ditangguhkan sebelum data di-pass ke model. Ini dikarenakan model masih belum mengetahui input shape dari data, maka dari itu model menangguhkan inisialisasi parameter, konsep ini juga membuat kita tidak perlu mendefinisikan input shape dari setiap layer, yang mana pastinya sangat membantu terutama jika dataset berupa gambar (yang mana mempunyai shape yang dinamis)\n",
        "\n",
        "Contohnya seperti kasus berikut, pertama-tama kita membuat model lalu memanggil weight nya"
      ],
      "metadata": {
        "id": "fEO1xkzpg7Wq"
      }
    },
    {
      "cell_type": "code",
      "source": [
        "net = keras.models.Sequential([\n",
        "    keras.layers.Dense(256, activation=tf.nn.relu),\n",
        "    keras.layers.Dense(10),\n",
        "])\n",
        "[net.layers[i].get_weights() for i in range(len(net.layers))]"
      ],
      "metadata": {
        "colab": {
          "base_uri": "https://localhost:8080/"
        },
        "id": "otb4A2PneJJs",
        "outputId": "c43e5d2c-c54b-4f36-adaf-dc257a0da155"
      },
      "execution_count": 16,
      "outputs": [
        {
          "output_type": "execute_result",
          "data": {
            "text/plain": [
              "[[], []]"
            ]
          },
          "metadata": {},
          "execution_count": 16
        }
      ]
    },
    {
      "cell_type": "markdown",
      "source": [
        "Kita bisa melihat weightnya masih kosong karena belum diinisialisasikan sama sekali"
      ],
      "metadata": {
        "id": "3tBxfxP4hCaJ"
      }
    },
    {
      "cell_type": "code",
      "source": [
        "# Feed model dengan X\n",
        "net(X)\n",
        "\n",
        "[w.shape for w in net.get_weights()], net.layers[0].get_weights()[0]"
      ],
      "metadata": {
        "colab": {
          "base_uri": "https://localhost:8080/"
        },
        "id": "-jKB2vrWeOBN",
        "outputId": "f3d3b286-c4db-4417-d7e1-2ee11cccacbb"
      },
      "execution_count": 17,
      "outputs": [
        {
          "output_type": "execute_result",
          "data": {
            "text/plain": [
              "([(4, 256), (256,), (256, 10), (10,)],\n",
              " array([[ 0.06456782, -0.07295229,  0.1219438 , ...,  0.02922186,\n",
              "          0.05952103,  0.04227482],\n",
              "        [ 0.10914555,  0.12628713,  0.1056388 , ...,  0.06826791,\n",
              "         -0.05991349, -0.10691746],\n",
              "        [ 0.13555983,  0.12912762, -0.06503145, ..., -0.00182062,\n",
              "          0.13520795, -0.07534514],\n",
              "        [-0.10921635, -0.13497168, -0.12281566, ...,  0.09267625,\n",
              "         -0.13642971, -0.12244417]], dtype=float32))"
            ]
          },
          "metadata": {},
          "execution_count": 17
        }
      ]
    },
    {
      "cell_type": "markdown",
      "source": [
        "Barulah setelah data di-pass weightnya terinisialisasi. Ini dinamakan Deferred Initialization (penangguhan inisialisasi)."
      ],
      "metadata": {
        "id": "1grKV7yOhFLB"
      }
    },
    {
      "cell_type": "markdown",
      "source": [
        "# 4. Custom Layers\n",
        "Pada kasus-kasus tertentu, kita berhadapan dengan masalah di mana kita membutuhkan layer yang belum pernah dibuat atau belum ada pada library, untuk mengatasi masalah tersebut, kita bisa membuat layer kustom kita sendiri. Membuat layer kustom sama saja seperti membuat blok. Terdapat 2 jenis kustom layer: layer tanpa atau dengan parameter (seperti weight atau bias)"
      ],
      "metadata": {
        "id": "7iMufR-ChGbQ"
      }
    },
    {
      "cell_type": "markdown",
      "source": [
        "### Layer tanpa parameter\n",
        "\n",
        "\n",
        "Layer tanpa parameter merupakan layer yang tidak mempunyai weight dan bias di dalamnya (seperti layer flatten). Misal kita ingin membuat layer yang mengurangi input dengan satu"
      ],
      "metadata": {
        "id": "WAc0-T5vhJco"
      }
    },
    {
      "cell_type": "code",
      "source": [
        "class MinusOneLayer(keras.Model):\n",
        "    def __init__(self):\n",
        "        super().__init__()\n",
        "\n",
        "    def call(self, input):\n",
        "        return input - tf.ones(input.shape)"
      ],
      "metadata": {
        "id": "HBHVIYXPeSqH"
      },
      "execution_count": 18,
      "outputs": []
    },
    {
      "cell_type": "code",
      "source": [
        "layer_wo_params= MinusOneLayer()\n",
        "layer_wo_params(tf.constant([1.,2.,3.]))"
      ],
      "metadata": {
        "colab": {
          "base_uri": "https://localhost:8080/"
        },
        "id": "aBKD07I8eTgb",
        "outputId": "f7488727-1e4d-4837-e53f-da0ce725cfac"
      },
      "execution_count": 19,
      "outputs": [
        {
          "output_type": "execute_result",
          "data": {
            "text/plain": [
              "<tf.Tensor: shape=(3,), dtype=float32, numpy=array([0., 1., 2.], dtype=float32)>"
            ]
          },
          "metadata": {},
          "execution_count": 19
        }
      ]
    },
    {
      "cell_type": "markdown",
      "source": [
        "Mengimplementasikannya pada model"
      ],
      "metadata": {
        "id": "2ASaSIXVhSnX"
      }
    },
    {
      "cell_type": "code",
      "source": [
        "net = keras.Sequential([keras.layers.Dense(128), MinusOneLayer()])"
      ],
      "metadata": {
        "id": "YaEjyojfeV3J"
      },
      "execution_count": 20,
      "outputs": []
    },
    {
      "cell_type": "markdown",
      "source": [
        "### Layer dengan parameter\n",
        "Layer dengan parameter mempunyai dan melibatkan weight dan bias pada operasinya. Misal kita ingin membuat layer dense yang berfungsi sama dengan layer dense pada umumnya (input * weight + bias lalu aktivasi). Walaupun kita mengatur/inisialisasi parameter semau kita, parameter juga tetap berubah saat proses back propagation"
      ],
      "metadata": {
        "id": "V8yURDeZhTVY"
      }
    },
    {
      "cell_type": "code",
      "source": [
        "class MyDense(keras.Model):\n",
        "    # Di sini kita berikan dua parameter saja yaitu untuk output dan aktivasi (tentu saja kita bisa menambahkannya sesuai kebutuhan)\n",
        "    def __init__(self, units, activation=None):\n",
        "        super().__init__()\n",
        "        self.units = units\n",
        "        self.activation= activation\n",
        "\n",
        "    # Pada method build kita inisialisasi weight dan bias, fungsi build hanya dijalankan satu kali\n",
        "    # Jadi weight dan bias tetap akan ter-update saat back propagation\n",
        "    def build(self, X_shape):\n",
        "        self.weight = self.add_weight(name='weight',\n",
        "            shape=[X_shape[-1], self.units],\n",
        "            initializer=tf.random_normal_initializer())\n",
        "        self.bias = self.add_weight(\n",
        "            name='bias', shape=[self.units],\n",
        "            initializer=tf.zeros_initializer())\n",
        "\n",
        "    # Pada fungsi call kita melakukan operasi (input * weight + bias lalu aktivasi)\n",
        "    def call(self, X):\n",
        "        linear = tf.matmul(X, self.weight) + self.bias\n",
        "\n",
        "        if self.activation is None:\n",
        "            return linear\n",
        "        \n",
        "        return self.activation(linear)"
      ],
      "metadata": {
        "id": "K6Jr_ySleXzM"
      },
      "execution_count": 21,
      "outputs": []
    },
    {
      "cell_type": "code",
      "source": [
        "temp_dense= MyDense(5)\n",
        "temp_dense(X)\n",
        "\n",
        "temp_dense.get_weights()"
      ],
      "metadata": {
        "colab": {
          "base_uri": "https://localhost:8080/"
        },
        "id": "EUvz41MLeain",
        "outputId": "67685b89-e4fb-4564-ed71-7967cbbbdd01"
      },
      "execution_count": 22,
      "outputs": [
        {
          "output_type": "execute_result",
          "data": {
            "text/plain": [
              "[array([[ 0.02790201, -0.02960716,  0.01616521,  0.01119643,  0.12988684],\n",
              "        [ 0.04065468,  0.02429028,  0.06017286,  0.00451622, -0.079991  ],\n",
              "        [ 0.02470844, -0.07201657,  0.07547449,  0.07829442,  0.03545597],\n",
              "        [ 0.00251699,  0.00978419,  0.06741989,  0.09638153, -0.01885505]],\n",
              "       dtype=float32), array([0., 0., 0., 0., 0.], dtype=float32)]"
            ]
          },
          "metadata": {},
          "execution_count": 22
        }
      ]
    },
    {
      "cell_type": "markdown",
      "source": [
        "Selanjutnya membuat model dengan 2 layer MyDense yang telah dibuat"
      ],
      "metadata": {
        "id": "vO9OUDWMhZly"
      }
    },
    {
      "cell_type": "code",
      "source": [
        "net= keras.Sequential([\n",
        "    keras.layers.Flatten(),\n",
        "    MyDense(128, tf.nn.relu), \n",
        "    MyDense(64, tf.nn.relu), \n",
        "    MyDense(32, tf.nn.relu), \n",
        "    MyDense(10, tf.nn.softmax)\n",
        "])\n",
        "\n",
        "net.compile(optimizer='adam', loss='sparse_categorical_crossentropy', metrics=['accuracy'])"
      ],
      "metadata": {
        "id": "8NY6sMPdecdY"
      },
      "execution_count": 23,
      "outputs": []
    },
    {
      "cell_type": "markdown",
      "source": [
        "Kita akan mengetes model tersebut pada dataset mnist"
      ],
      "metadata": {
        "id": "makzlXCrhdJw"
      }
    },
    {
      "cell_type": "code",
      "source": [
        "(x_train, y_train), (x_test, y_test)= keras.datasets.mnist.load_data()\n",
        "x_train, x_test= x_train/255, x_test/255"
      ],
      "metadata": {
        "colab": {
          "base_uri": "https://localhost:8080/"
        },
        "id": "vRJ3LeVTehd-",
        "outputId": "86b1fab9-641f-4bb5-f407-b5fadc48c611"
      },
      "execution_count": 24,
      "outputs": [
        {
          "output_type": "stream",
          "name": "stdout",
          "text": [
            "Downloading data from https://storage.googleapis.com/tensorflow/tf-keras-datasets/mnist.npz\n",
            "11493376/11490434 [==============================] - 0s 0us/step\n",
            "11501568/11490434 [==============================] - 0s 0us/step\n"
          ]
        }
      ]
    },
    {
      "cell_type": "code",
      "source": [
        "net.fit(x_train, y_train, epochs=3, batch_size= 128)"
      ],
      "metadata": {
        "colab": {
          "base_uri": "https://localhost:8080/"
        },
        "id": "-h0yyMeKekIf",
        "outputId": "8039f6a5-6864-4b54-8f3a-b1810410cc3a"
      },
      "execution_count": 25,
      "outputs": [
        {
          "output_type": "stream",
          "name": "stdout",
          "text": [
            "Epoch 1/3\n",
            "469/469 [==============================] - 3s 4ms/step - loss: 0.5339 - accuracy: 0.8415\n",
            "Epoch 2/3\n",
            "469/469 [==============================] - 2s 4ms/step - loss: 0.2079 - accuracy: 0.9393\n",
            "Epoch 3/3\n",
            "469/469 [==============================] - 2s 4ms/step - loss: 0.1454 - accuracy: 0.9566\n"
          ]
        },
        {
          "output_type": "execute_result",
          "data": {
            "text/plain": [
              "<keras.callbacks.History at 0x7f2150263e50>"
            ]
          },
          "metadata": {},
          "execution_count": 25
        }
      ]
    },
    {
      "cell_type": "code",
      "source": [
        "net.evaluate(x_test, y_test)"
      ],
      "metadata": {
        "colab": {
          "base_uri": "https://localhost:8080/"
        },
        "id": "XEspZb9Feo1r",
        "outputId": "dcce1e2f-7970-4669-c55f-df82ed7cdb45"
      },
      "execution_count": 26,
      "outputs": [
        {
          "output_type": "stream",
          "name": "stdout",
          "text": [
            "313/313 [==============================] - 1s 3ms/step - loss: 0.1356 - accuracy: 0.9592\n"
          ]
        },
        {
          "output_type": "execute_result",
          "data": {
            "text/plain": [
              "[0.13559050858020782, 0.9592000246047974]"
            ]
          },
          "metadata": {},
          "execution_count": 26
        }
      ]
    },
    {
      "cell_type": "markdown",
      "source": [
        "# 5. File I/O"
      ],
      "metadata": {
        "id": "XH4krCgdhgXJ"
      }
    },
    {
      "cell_type": "markdown",
      "source": [
        "### Save / Load Tensor\n",
        "Untuk tensor, kita bisa menggunakan numpy.save(namaFile.npy, tensor) untuk menyimpan tensor dan numpy.load(namaFile.npy) untuk memuatnya."
      ],
      "metadata": {
        "id": "hXwr5srMhhwe"
      }
    },
    {
      "cell_type": "code",
      "source": [
        "save_x= tf.constant(['a', 'b', 'c'])\n",
        "save_x"
      ],
      "metadata": {
        "colab": {
          "base_uri": "https://localhost:8080/"
        },
        "id": "OYR7ChOMerHz",
        "outputId": "d07b729e-b336-42f1-ae49-0416ff967623"
      },
      "execution_count": 43,
      "outputs": [
        {
          "output_type": "execute_result",
          "data": {
            "text/plain": [
              "<tf.Tensor: shape=(3,), dtype=string, numpy=array([b'a', b'b', b'c'], dtype=object)>"
            ]
          },
          "metadata": {},
          "execution_count": 43
        }
      ]
    },
    {
      "cell_type": "markdown",
      "source": [
        "Menyimpan tensor"
      ],
      "metadata": {
        "id": "lvcSsjI7hmtm"
      }
    },
    {
      "cell_type": "code",
      "source": [
        "import numpy as np\n",
        "\n",
        "np.save('save-x.npy', save_x)"
      ],
      "metadata": {
        "id": "wBnApMtrer8b"
      },
      "execution_count": 44,
      "outputs": []
    },
    {
      "cell_type": "markdown",
      "source": [
        "Meload tensor"
      ],
      "metadata": {
        "id": "YehhAkFyhq4q"
      }
    },
    {
      "cell_type": "code",
      "source": [
        "temp_x= np.load('save-x.npy', allow_pickle=True)\n",
        "temp_x"
      ],
      "metadata": {
        "colab": {
          "base_uri": "https://localhost:8080/"
        },
        "id": "b-PqOWRzeuA9",
        "outputId": "dc216803-26d3-4fad-8cea-4b90714e1b02"
      },
      "execution_count": 45,
      "outputs": [
        {
          "output_type": "execute_result",
          "data": {
            "text/plain": [
              "array([b'a', b'b', b'c'], dtype=object)"
            ]
          },
          "metadata": {},
          "execution_count": 45
        }
      ]
    },
    {
      "cell_type": "markdown",
      "source": [
        "### Save / Load Model Parameter\n",
        "Misal model kita seperti ini"
      ],
      "metadata": {
        "id": "QLVkA1QjhtU9"
      }
    },
    {
      "cell_type": "code",
      "source": [
        "class MLP(tf.keras.Model):\n",
        "    def __init__(self):\n",
        "        super().__init__()\n",
        "        self.flatten = tf.keras.layers.Flatten()\n",
        "        self.hidden = tf.keras.layers.Dense(units=256, activation=tf.nn.relu)\n",
        "        self.out = tf.keras.layers.Dense(units=10)\n",
        "\n",
        "    def call(self, inputs):\n",
        "        x = self.flatten(inputs)\n",
        "        x = self.hidden(x)\n",
        "        return self.out(x)\n",
        "\n",
        "net= MLP()"
      ],
      "metadata": {
        "id": "z1HPT-m8exal"
      },
      "execution_count": 46,
      "outputs": []
    },
    {
      "cell_type": "markdown",
      "source": [
        "Lalu kita melakukan feed forward pada model"
      ],
      "metadata": {
        "id": "vpfJqpT3hwIn"
      }
    },
    {
      "cell_type": "code",
      "source": [
        "Y1= net(X)\n",
        "Y1"
      ],
      "metadata": {
        "colab": {
          "base_uri": "https://localhost:8080/"
        },
        "id": "uOnTLfxIeyM9",
        "outputId": "08975a9a-e9d8-46ca-df0d-4ad8749c12c4"
      },
      "execution_count": 47,
      "outputs": [
        {
          "output_type": "execute_result",
          "data": {
            "text/plain": [
              "<tf.Tensor: shape=(2, 10), dtype=float32, numpy=\n",
              "array([[ 0.01608171,  0.09957618, -0.12128264,  0.07072887, -0.04526163,\n",
              "        -0.07433657,  0.05163891,  0.00424158,  0.03460515,  0.0469794 ],\n",
              "       [-0.02286452,  0.05513217, -0.05191122,  0.10090058,  0.01621987,\n",
              "        -0.00874656, -0.03408854,  0.0521233 ,  0.01493379,  0.1082292 ]],\n",
              "      dtype=float32)>"
            ]
          },
          "metadata": {},
          "execution_count": 47
        }
      ]
    },
    {
      "cell_type": "markdown",
      "source": [
        "Sekarang kita akan menyimpan parameter model dengan fungsi save_weights('nama_weight.params')"
      ],
      "metadata": {
        "id": "HurLwbmFh1Ti"
      }
    },
    {
      "cell_type": "code",
      "source": [
        "net.save_weights('mlp.params')"
      ],
      "metadata": {
        "id": "prGR3G3Dez1F"
      },
      "execution_count": 48,
      "outputs": []
    },
    {
      "cell_type": "markdown",
      "source": [
        "Sekarang kita akan membuat model dengan arsitektur yang sama tapi tidak dilakukan feed forward, sebaliknya parameternya diambil/diload dari file parameter yang telah di-save sebelumnya"
      ],
      "metadata": {
        "id": "YzNNKShpiBOM"
      }
    },
    {
      "cell_type": "code",
      "source": [
        "net_2= MLP()\n",
        "net_2.load_weights('mlp.params')\n",
        "\n",
        "# Feed forward\n",
        "Y2= net_2(X)"
      ],
      "metadata": {
        "id": "YuR0QhwXe2Kw"
      },
      "execution_count": 49,
      "outputs": []
    },
    {
      "cell_type": "markdown",
      "source": [
        "Sekarang kita akan membandingkan variabel Y1 dengan Y2"
      ],
      "metadata": {
        "id": "VhwAKzZIh3eF"
      }
    },
    {
      "cell_type": "code",
      "source": [
        "Y1==Y2"
      ],
      "metadata": {
        "colab": {
          "base_uri": "https://localhost:8080/"
        },
        "id": "8Ew5eFJhe4Pv",
        "outputId": "14367a03-07b8-40d4-9de7-e78eed84a082"
      },
      "execution_count": 50,
      "outputs": [
        {
          "output_type": "execute_result",
          "data": {
            "text/plain": [
              "<tf.Tensor: shape=(2, 10), dtype=bool, numpy=\n",
              "array([[ True,  True,  True,  True,  True,  True,  True,  True,  True,\n",
              "         True],\n",
              "       [ True,  True,  True,  True,  True,  True,  True,  True,  True,\n",
              "         True]])>"
            ]
          },
          "metadata": {},
          "execution_count": 50
        }
      ]
    },
    {
      "cell_type": "markdown",
      "source": [
        "Hasilnya adalah sama"
      ],
      "metadata": {
        "id": "eVcVQUXkh8zV"
      }
    },
    {
      "cell_type": "markdown",
      "source": [
        "# 6. GPUs\n",
        "Mengecek ketersediaan GPU"
      ],
      "metadata": {
        "id": "k_D2HoE1iGAg"
      }
    },
    {
      "cell_type": "code",
      "source": [
        "!nvidia-smi"
      ],
      "metadata": {
        "colab": {
          "base_uri": "https://localhost:8080/"
        },
        "id": "EJ2UJQVXe6bp",
        "outputId": "171895af-eef9-4c0b-b2da-df488aa2072b"
      },
      "execution_count": 51,
      "outputs": [
        {
          "output_type": "stream",
          "name": "stdout",
          "text": [
            "Sat Apr 23 13:57:30 2022       \n",
            "+-----------------------------------------------------------------------------+\n",
            "| NVIDIA-SMI 460.32.03    Driver Version: 460.32.03    CUDA Version: 11.2     |\n",
            "|-------------------------------+----------------------+----------------------+\n",
            "| GPU  Name        Persistence-M| Bus-Id        Disp.A | Volatile Uncorr. ECC |\n",
            "| Fan  Temp  Perf  Pwr:Usage/Cap|         Memory-Usage | GPU-Util  Compute M. |\n",
            "|                               |                      |               MIG M. |\n",
            "|===============================+======================+======================|\n",
            "|   0  Tesla K80           Off  | 00000000:00:04.0 Off |                    0 |\n",
            "| N/A   72C    P0    75W / 149W |    707MiB / 11441MiB |      0%      Default |\n",
            "|                               |                      |                  N/A |\n",
            "+-------------------------------+----------------------+----------------------+\n",
            "                                                                               \n",
            "+-----------------------------------------------------------------------------+\n",
            "| Processes:                                                                  |\n",
            "|  GPU   GI   CI        PID   Type   Process name                  GPU Memory |\n",
            "|        ID   ID                                                   Usage      |\n",
            "|=============================================================================|\n",
            "+-----------------------------------------------------------------------------+\n"
          ]
        }
      ]
    },
    {
      "cell_type": "markdown",
      "source": [
        "Kita dapat menentukan device, seperti CPU dan GPU, untuk penyimpanan dan komputasi. Secara default, tensor dibuat di memori utama dan menggunakan CPU untuk komputasi."
      ],
      "metadata": {
        "id": "5UOWxyVhiK1o"
      }
    },
    {
      "cell_type": "code",
      "source": [
        "tf.device('/CPU:0'), tf.device('/GPU:0'), tf.device('/GPU:1')"
      ],
      "metadata": {
        "colab": {
          "base_uri": "https://localhost:8080/"
        },
        "id": "wOouwlDWe-Gh",
        "outputId": "b1d2f4e5-39d8-4e57-8586-39619573eb77"
      },
      "execution_count": 52,
      "outputs": [
        {
          "output_type": "execute_result",
          "data": {
            "text/plain": [
              "(<tensorflow.python.eager.context._EagerDeviceContext at 0x7f215011ec30>,\n",
              " <tensorflow.python.eager.context._EagerDeviceContext at 0x7f20df2305f0>,\n",
              " <tensorflow.python.eager.context._EagerDeviceContext at 0x7f20df230910>)"
            ]
          },
          "metadata": {},
          "execution_count": 52
        }
      ]
    },
    {
      "cell_type": "markdown",
      "source": [
        "Kita bisa menjalankan query untuk mendapatkan berapa banyak GPU dalam sistem"
      ],
      "metadata": {
        "id": "ZZ_lWjMqiNC-"
      }
    },
    {
      "cell_type": "code",
      "source": [
        "len(tf.config.experimental.list_physical_devices('GPU'))"
      ],
      "metadata": {
        "colab": {
          "base_uri": "https://localhost:8080/"
        },
        "id": "wGuBC89nfAzY",
        "outputId": "835dad76-00fc-4d40-fc4c-674a1c731882"
      },
      "execution_count": 53,
      "outputs": [
        {
          "output_type": "execute_result",
          "data": {
            "text/plain": [
              "1"
            ]
          },
          "metadata": {},
          "execution_count": 53
        }
      ]
    },
    {
      "cell_type": "markdown",
      "source": [
        "### Tensor dan GPU\n",
        "\n",
        "Secara default, tensor dibuat dalam CPU, untuk melihat di device mana suatu tensor berada kita bisa menjalankan fungsi seperti ini"
      ],
      "metadata": {
        "id": "6pxV_4QWiPmC"
      }
    },
    {
      "cell_type": "code",
      "source": [
        "x = tf.constant([1, 2, 3])\n",
        "x.device"
      ],
      "metadata": {
        "colab": {
          "base_uri": "https://localhost:8080/",
          "height": 35
        },
        "id": "u8HrMjwTfCtx",
        "outputId": "004ca3d8-e199-44e7-b28f-cc60dd902e5b"
      },
      "execution_count": 56,
      "outputs": [
        {
          "output_type": "execute_result",
          "data": {
            "text/plain": [
              "'/job:localhost/replica:0/task:0/device:GPU:0'"
            ],
            "application/vnd.google.colaboratory.intrinsic+json": {
              "type": "string"
            }
          },
          "metadata": {},
          "execution_count": 56
        }
      ]
    },
    {
      "cell_type": "markdown",
      "source": [
        "Outputnya mengatakan GPU karena saya menggunakan google colabs dan telah mengatur runtime pada saat penulisan kode, namun secara default, kalau tidak didefinisikan, akan mengeluarkan output CPU"
      ],
      "metadata": {
        "id": "ir75iQROiTmC"
      }
    },
    {
      "cell_type": "markdown",
      "source": [
        "### Menyetel penggunaan GPU\n",
        "\n",
        "Misal kita ingin menggunakan GPU pertama atau GPU:0"
      ],
      "metadata": {
        "id": "f5rFgIo4iUef"
      }
    },
    {
      "cell_type": "code",
      "source": [
        "tf.device('GPU:0')"
      ],
      "metadata": {
        "colab": {
          "base_uri": "https://localhost:8080/"
        },
        "id": "KQDQkVebfFRJ",
        "outputId": "d294ed99-433d-405c-ed75-fba3494e2750"
      },
      "execution_count": 54,
      "outputs": [
        {
          "output_type": "execute_result",
          "data": {
            "text/plain": [
              "<tensorflow.python.eager.context._EagerDeviceContext at 0x7f20df206050>"
            ]
          },
          "metadata": {},
          "execution_count": 54
        }
      ]
    },
    {
      "cell_type": "code",
      "source": [
        "with tf.device('GPU:0'):\n",
        "    test = tf.ones((2, 3))\n",
        "\n",
        "test.device"
      ],
      "metadata": {
        "colab": {
          "base_uri": "https://localhost:8080/",
          "height": 35
        },
        "id": "kMy9_8RsfHQv",
        "outputId": "1a06c307-fded-4cb2-b76f-eb92ae6c87a9"
      },
      "execution_count": 55,
      "outputs": [
        {
          "output_type": "execute_result",
          "data": {
            "text/plain": [
              "'/job:localhost/replica:0/task:0/device:GPU:0'"
            ],
            "application/vnd.google.colaboratory.intrinsic+json": {
              "type": "string"
            }
          },
          "metadata": {},
          "execution_count": 55
        }
      ]
    },
    {
      "cell_type": "markdown",
      "source": [
        "Hati-hati saat pemilihan GPU terutama jika kita memiliki lebih dari satu GPU dalam satu komputer, karena akan terjadi error jika kita melakukan operasi yang melibatkan 2 tensor yang berada di GPU yang berbeda"
      ],
      "metadata": {
        "id": "KpdNBVgaiZzl"
      }
    }
  ]
}